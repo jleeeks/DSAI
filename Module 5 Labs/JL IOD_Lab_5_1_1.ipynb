{
 "cells": [
  {
   "cell_type": "markdown",
   "metadata": {
    "colab_type": "text",
    "id": "XebDJ3UnS3n3"
   },
   "source": [
    "<div>\n",
    "<img src=https://www.institutedata.com/wp-content/uploads/2019/10/iod_h_tp_primary_c.svg width=\"300\">\n",
    "</div>"
   ]
  },
  {
   "cell_type": "markdown",
   "metadata": {},
   "source": [
    "## Start: 21st Aug\n",
    "## End: 22nd Aug"
   ]
  },
  {
   "cell_type": "markdown",
   "metadata": {
    "colab_type": "text",
    "id": "e_-HjrL6S3n5"
   },
   "source": [
    "# Lab 5.1.1\n",
    "# *Evaluating Classification Models*\n",
    "\n",
    "In this lab you will be practicing evaluating classification models (Logistic Regression in particular) on a \"Breast Cancer\" data."
   ]
  },
  {
   "cell_type": "code",
   "execution_count": 1,
   "metadata": {
    "ExecuteTime": {
     "end_time": "2019-05-06T06:09:10.987137Z",
     "start_time": "2019-05-06T06:09:08.585560Z"
    },
    "colab": {},
    "colab_type": "code",
    "id": "1zMTIA2vS3n8"
   },
   "outputs": [],
   "source": [
    "import numpy as np\n",
    "import matplotlib.pyplot as plt\n",
    "from sklearn import svm\n",
    "from sklearn.datasets import make_blobs\n",
    "from sklearn.linear_model import LogisticRegression\n",
    "from sklearn.model_selection import train_test_split\n",
    "\n",
    "%matplotlib inline"
   ]
  },
  {
   "cell_type": "markdown",
   "metadata": {
    "colab_type": "text",
    "id": "NK8vl9V2YFtm"
   },
   "source": [
    "### 1. Load Data\n",
    "\n",
    "Features are computed from a digitized image of a fine needle aspirate (FNA) of a breast mass. They describe characteristics of the cell nuclei present in the image. n the 3-dimensional space is that described in: [K. P. Bennett and O. L. Mangasarian: \"Robust Linear Programming Discrimination of Two Linearly Inseparable Sets\", Optimization Methods and Software 1, 1992, 23-34].\n",
    "\n",
    "This database is also available through the UW CS ftp server: ftp ftp.cs.wisc.edu cd math-prog/cpo-dataset/machine-learn/WDBC/\n",
    "\n",
    "Also can be found on UCI Machine Learning Repository: https://archive.ics.uci.edu/ml/datasets/Breast+Cancer+Wisconsin+%28Diagnostic%29\n",
    "\n",
    "Attribute Information:\n",
    "\n",
    "1) ID number 2) Diagnosis (M = malignant, B = benign) 3-32)\n",
    "\n",
    "Ten real-valued features are computed for each cell nucleus:\n",
    "\n",
    "    a) radius (mean of distances from center to points on the perimeter) \n",
    "    b) texture (standard deviation of gray-scale values) \n",
    "    c) perimeter \n",
    "    d) area \n",
    "    e) smoothness (local variation in radius lengths) \n",
    "    f) compactness (perimeter^2 / area - 1.0) \n",
    "    g) concavity (severity of concave portions of the contour) \n",
    "    h) concave points (number of concave portions of the contour) \n",
    "    i) symmetry \n",
    "    j) fractal dimension (\"coastline approximation\" - 1)\n",
    "\n",
    "The mean, standard error and \"worst\" or largest (mean of the three largest values) of these features were computed for each image, resulting in 30 features. For instance, field 3 is Mean Radius, field 13 is Radius SE, field 23 is Worst Radius.\n",
    "\n",
    "All feature values are recoded with four significant digits.\n",
    "\n",
    "Missing attribute values: none\n",
    "\n",
    "Class distribution: 357 benign, 212 malignant"
   ]
  },
  {
   "cell_type": "code",
   "execution_count": 2,
   "metadata": {
    "ExecuteTime": {
     "end_time": "2019-05-06T06:10:11.257429Z",
     "start_time": "2019-05-06T06:10:10.461467Z"
    },
    "colab": {},
    "colab_type": "code",
    "id": "Vobco1MLYFtn"
   },
   "outputs": [],
   "source": [
    "import pandas as pd\n",
    "import numpy as np\n",
    "import matplotlib.pyplot as plt"
   ]
  },
  {
   "cell_type": "code",
   "execution_count": 3,
   "metadata": {
    "ExecuteTime": {
     "end_time": "2019-05-06T06:10:13.050415Z",
     "start_time": "2019-05-06T06:10:13.046425Z"
    },
    "colab": {},
    "colab_type": "code",
    "id": "YMdRWshHYFtq"
   },
   "outputs": [],
   "source": [
    "breast_cancer_csv = '../../DATA/breast-cancer-wisconsin-data.csv'\n",
    "breast = pd.read_csv(breast_cancer_csv)"
   ]
  },
  {
   "cell_type": "code",
   "execution_count": 4,
   "metadata": {},
   "outputs": [
    {
     "data": {
      "text/html": [
       "<div>\n",
       "<style scoped>\n",
       "    .dataframe tbody tr th:only-of-type {\n",
       "        vertical-align: middle;\n",
       "    }\n",
       "\n",
       "    .dataframe tbody tr th {\n",
       "        vertical-align: top;\n",
       "    }\n",
       "\n",
       "    .dataframe thead th {\n",
       "        text-align: right;\n",
       "    }\n",
       "</style>\n",
       "<table border=\"1\" class=\"dataframe\">\n",
       "  <thead>\n",
       "    <tr style=\"text-align: right;\">\n",
       "      <th></th>\n",
       "      <th>id</th>\n",
       "      <th>diagnosis</th>\n",
       "      <th>radius_mean</th>\n",
       "      <th>texture_mean</th>\n",
       "      <th>perimeter_mean</th>\n",
       "      <th>area_mean</th>\n",
       "      <th>smoothness_mean</th>\n",
       "      <th>compactness_mean</th>\n",
       "      <th>concavity_mean</th>\n",
       "      <th>concave points_mean</th>\n",
       "      <th>...</th>\n",
       "      <th>texture_worst</th>\n",
       "      <th>perimeter_worst</th>\n",
       "      <th>area_worst</th>\n",
       "      <th>smoothness_worst</th>\n",
       "      <th>compactness_worst</th>\n",
       "      <th>concavity_worst</th>\n",
       "      <th>concave points_worst</th>\n",
       "      <th>symmetry_worst</th>\n",
       "      <th>fractal_dimension_worst</th>\n",
       "      <th>Unnamed: 32</th>\n",
       "    </tr>\n",
       "  </thead>\n",
       "  <tbody>\n",
       "    <tr>\n",
       "      <th>0</th>\n",
       "      <td>842302</td>\n",
       "      <td>M</td>\n",
       "      <td>17.99</td>\n",
       "      <td>10.38</td>\n",
       "      <td>122.80</td>\n",
       "      <td>1001.0</td>\n",
       "      <td>0.11840</td>\n",
       "      <td>0.27760</td>\n",
       "      <td>0.3001</td>\n",
       "      <td>0.14710</td>\n",
       "      <td>...</td>\n",
       "      <td>17.33</td>\n",
       "      <td>184.60</td>\n",
       "      <td>2019.0</td>\n",
       "      <td>0.1622</td>\n",
       "      <td>0.6656</td>\n",
       "      <td>0.7119</td>\n",
       "      <td>0.2654</td>\n",
       "      <td>0.4601</td>\n",
       "      <td>0.11890</td>\n",
       "      <td>NaN</td>\n",
       "    </tr>\n",
       "    <tr>\n",
       "      <th>1</th>\n",
       "      <td>842517</td>\n",
       "      <td>M</td>\n",
       "      <td>20.57</td>\n",
       "      <td>17.77</td>\n",
       "      <td>132.90</td>\n",
       "      <td>1326.0</td>\n",
       "      <td>0.08474</td>\n",
       "      <td>0.07864</td>\n",
       "      <td>0.0869</td>\n",
       "      <td>0.07017</td>\n",
       "      <td>...</td>\n",
       "      <td>23.41</td>\n",
       "      <td>158.80</td>\n",
       "      <td>1956.0</td>\n",
       "      <td>0.1238</td>\n",
       "      <td>0.1866</td>\n",
       "      <td>0.2416</td>\n",
       "      <td>0.1860</td>\n",
       "      <td>0.2750</td>\n",
       "      <td>0.08902</td>\n",
       "      <td>NaN</td>\n",
       "    </tr>\n",
       "    <tr>\n",
       "      <th>2</th>\n",
       "      <td>84300903</td>\n",
       "      <td>M</td>\n",
       "      <td>19.69</td>\n",
       "      <td>21.25</td>\n",
       "      <td>130.00</td>\n",
       "      <td>1203.0</td>\n",
       "      <td>0.10960</td>\n",
       "      <td>0.15990</td>\n",
       "      <td>0.1974</td>\n",
       "      <td>0.12790</td>\n",
       "      <td>...</td>\n",
       "      <td>25.53</td>\n",
       "      <td>152.50</td>\n",
       "      <td>1709.0</td>\n",
       "      <td>0.1444</td>\n",
       "      <td>0.4245</td>\n",
       "      <td>0.4504</td>\n",
       "      <td>0.2430</td>\n",
       "      <td>0.3613</td>\n",
       "      <td>0.08758</td>\n",
       "      <td>NaN</td>\n",
       "    </tr>\n",
       "    <tr>\n",
       "      <th>3</th>\n",
       "      <td>84348301</td>\n",
       "      <td>M</td>\n",
       "      <td>11.42</td>\n",
       "      <td>20.38</td>\n",
       "      <td>77.58</td>\n",
       "      <td>386.1</td>\n",
       "      <td>0.14250</td>\n",
       "      <td>0.28390</td>\n",
       "      <td>0.2414</td>\n",
       "      <td>0.10520</td>\n",
       "      <td>...</td>\n",
       "      <td>26.50</td>\n",
       "      <td>98.87</td>\n",
       "      <td>567.7</td>\n",
       "      <td>0.2098</td>\n",
       "      <td>0.8663</td>\n",
       "      <td>0.6869</td>\n",
       "      <td>0.2575</td>\n",
       "      <td>0.6638</td>\n",
       "      <td>0.17300</td>\n",
       "      <td>NaN</td>\n",
       "    </tr>\n",
       "    <tr>\n",
       "      <th>4</th>\n",
       "      <td>84358402</td>\n",
       "      <td>M</td>\n",
       "      <td>20.29</td>\n",
       "      <td>14.34</td>\n",
       "      <td>135.10</td>\n",
       "      <td>1297.0</td>\n",
       "      <td>0.10030</td>\n",
       "      <td>0.13280</td>\n",
       "      <td>0.1980</td>\n",
       "      <td>0.10430</td>\n",
       "      <td>...</td>\n",
       "      <td>16.67</td>\n",
       "      <td>152.20</td>\n",
       "      <td>1575.0</td>\n",
       "      <td>0.1374</td>\n",
       "      <td>0.2050</td>\n",
       "      <td>0.4000</td>\n",
       "      <td>0.1625</td>\n",
       "      <td>0.2364</td>\n",
       "      <td>0.07678</td>\n",
       "      <td>NaN</td>\n",
       "    </tr>\n",
       "  </tbody>\n",
       "</table>\n",
       "<p>5 rows × 33 columns</p>\n",
       "</div>"
      ],
      "text/plain": [
       "         id diagnosis  radius_mean  texture_mean  perimeter_mean  area_mean  \\\n",
       "0    842302         M        17.99         10.38          122.80     1001.0   \n",
       "1    842517         M        20.57         17.77          132.90     1326.0   \n",
       "2  84300903         M        19.69         21.25          130.00     1203.0   \n",
       "3  84348301         M        11.42         20.38           77.58      386.1   \n",
       "4  84358402         M        20.29         14.34          135.10     1297.0   \n",
       "\n",
       "   smoothness_mean  compactness_mean  concavity_mean  concave points_mean  \\\n",
       "0          0.11840           0.27760          0.3001              0.14710   \n",
       "1          0.08474           0.07864          0.0869              0.07017   \n",
       "2          0.10960           0.15990          0.1974              0.12790   \n",
       "3          0.14250           0.28390          0.2414              0.10520   \n",
       "4          0.10030           0.13280          0.1980              0.10430   \n",
       "\n",
       "   ...  texture_worst  perimeter_worst  area_worst  smoothness_worst  \\\n",
       "0  ...          17.33           184.60      2019.0            0.1622   \n",
       "1  ...          23.41           158.80      1956.0            0.1238   \n",
       "2  ...          25.53           152.50      1709.0            0.1444   \n",
       "3  ...          26.50            98.87       567.7            0.2098   \n",
       "4  ...          16.67           152.20      1575.0            0.1374   \n",
       "\n",
       "   compactness_worst  concavity_worst  concave points_worst  symmetry_worst  \\\n",
       "0             0.6656           0.7119                0.2654          0.4601   \n",
       "1             0.1866           0.2416                0.1860          0.2750   \n",
       "2             0.4245           0.4504                0.2430          0.3613   \n",
       "3             0.8663           0.6869                0.2575          0.6638   \n",
       "4             0.2050           0.4000                0.1625          0.2364   \n",
       "\n",
       "   fractal_dimension_worst  Unnamed: 32  \n",
       "0                  0.11890          NaN  \n",
       "1                  0.08902          NaN  \n",
       "2                  0.08758          NaN  \n",
       "3                  0.17300          NaN  \n",
       "4                  0.07678          NaN  \n",
       "\n",
       "[5 rows x 33 columns]"
      ]
     },
     "execution_count": 4,
     "metadata": {},
     "output_type": "execute_result"
    }
   ],
   "source": [
    "breast.head()"
   ]
  },
  {
   "cell_type": "markdown",
   "metadata": {
    "colab_type": "text",
    "id": "sN3r0f1qYFtt"
   },
   "source": [
    "### 2. EDA \n",
    "\n",
    "Explore dataset. Check for nulls. Make the target column binary."
   ]
  },
  {
   "cell_type": "code",
   "execution_count": 5,
   "metadata": {},
   "outputs": [
    {
     "data": {
      "text/plain": [
       "id                           0\n",
       "diagnosis                    0\n",
       "radius_mean                  0\n",
       "texture_mean                 0\n",
       "perimeter_mean               0\n",
       "area_mean                    0\n",
       "smoothness_mean              0\n",
       "compactness_mean             0\n",
       "concavity_mean               0\n",
       "concave points_mean          0\n",
       "symmetry_mean                0\n",
       "fractal_dimension_mean       0\n",
       "radius_se                    0\n",
       "texture_se                   0\n",
       "perimeter_se                 0\n",
       "area_se                      0\n",
       "smoothness_se                0\n",
       "compactness_se               0\n",
       "concavity_se                 0\n",
       "concave points_se            0\n",
       "symmetry_se                  0\n",
       "fractal_dimension_se         0\n",
       "radius_worst                 0\n",
       "texture_worst                0\n",
       "perimeter_worst              0\n",
       "area_worst                   0\n",
       "smoothness_worst             0\n",
       "compactness_worst            0\n",
       "concavity_worst              0\n",
       "concave points_worst         0\n",
       "symmetry_worst               0\n",
       "fractal_dimension_worst      0\n",
       "Unnamed: 32                569\n",
       "dtype: int64"
      ]
     },
     "execution_count": 5,
     "metadata": {},
     "output_type": "execute_result"
    }
   ],
   "source": [
    "breast.isnull().sum()"
   ]
  },
  {
   "cell_type": "code",
   "execution_count": 6,
   "metadata": {},
   "outputs": [
    {
     "data": {
      "text/plain": [
       "(569, 33)"
      ]
     },
     "execution_count": 6,
     "metadata": {},
     "output_type": "execute_result"
    }
   ],
   "source": [
    "breast.shape"
   ]
  },
  {
   "cell_type": "code",
   "execution_count": 7,
   "metadata": {},
   "outputs": [],
   "source": [
    "breast.drop(labels=\"Unnamed: 32\", axis=1, inplace=True)"
   ]
  },
  {
   "cell_type": "code",
   "execution_count": 8,
   "metadata": {},
   "outputs": [
    {
     "data": {
      "text/plain": [
       "Index(['id', 'diagnosis', 'radius_mean', 'texture_mean', 'perimeter_mean',\n",
       "       'area_mean', 'smoothness_mean', 'compactness_mean', 'concavity_mean',\n",
       "       'concave points_mean', 'symmetry_mean', 'fractal_dimension_mean',\n",
       "       'radius_se', 'texture_se', 'perimeter_se', 'area_se', 'smoothness_se',\n",
       "       'compactness_se', 'concavity_se', 'concave points_se', 'symmetry_se',\n",
       "       'fractal_dimension_se', 'radius_worst', 'texture_worst',\n",
       "       'perimeter_worst', 'area_worst', 'smoothness_worst',\n",
       "       'compactness_worst', 'concavity_worst', 'concave points_worst',\n",
       "       'symmetry_worst', 'fractal_dimension_worst'],\n",
       "      dtype='object')"
      ]
     },
     "execution_count": 8,
     "metadata": {},
     "output_type": "execute_result"
    }
   ],
   "source": [
    "breast.columns"
   ]
  },
  {
   "cell_type": "code",
   "execution_count": 9,
   "metadata": {},
   "outputs": [
    {
     "name": "stdout",
     "output_type": "stream",
     "text": [
      "<class 'pandas.core.frame.DataFrame'>\n",
      "RangeIndex: 569 entries, 0 to 568\n",
      "Data columns (total 32 columns):\n",
      " #   Column                   Non-Null Count  Dtype  \n",
      "---  ------                   --------------  -----  \n",
      " 0   id                       569 non-null    int64  \n",
      " 1   diagnosis                569 non-null    object \n",
      " 2   radius_mean              569 non-null    float64\n",
      " 3   texture_mean             569 non-null    float64\n",
      " 4   perimeter_mean           569 non-null    float64\n",
      " 5   area_mean                569 non-null    float64\n",
      " 6   smoothness_mean          569 non-null    float64\n",
      " 7   compactness_mean         569 non-null    float64\n",
      " 8   concavity_mean           569 non-null    float64\n",
      " 9   concave points_mean      569 non-null    float64\n",
      " 10  symmetry_mean            569 non-null    float64\n",
      " 11  fractal_dimension_mean   569 non-null    float64\n",
      " 12  radius_se                569 non-null    float64\n",
      " 13  texture_se               569 non-null    float64\n",
      " 14  perimeter_se             569 non-null    float64\n",
      " 15  area_se                  569 non-null    float64\n",
      " 16  smoothness_se            569 non-null    float64\n",
      " 17  compactness_se           569 non-null    float64\n",
      " 18  concavity_se             569 non-null    float64\n",
      " 19  concave points_se        569 non-null    float64\n",
      " 20  symmetry_se              569 non-null    float64\n",
      " 21  fractal_dimension_se     569 non-null    float64\n",
      " 22  radius_worst             569 non-null    float64\n",
      " 23  texture_worst            569 non-null    float64\n",
      " 24  perimeter_worst          569 non-null    float64\n",
      " 25  area_worst               569 non-null    float64\n",
      " 26  smoothness_worst         569 non-null    float64\n",
      " 27  compactness_worst        569 non-null    float64\n",
      " 28  concavity_worst          569 non-null    float64\n",
      " 29  concave points_worst     569 non-null    float64\n",
      " 30  symmetry_worst           569 non-null    float64\n",
      " 31  fractal_dimension_worst  569 non-null    float64\n",
      "dtypes: float64(30), int64(1), object(1)\n",
      "memory usage: 142.4+ KB\n"
     ]
    }
   ],
   "source": [
    "breast.info()"
   ]
  },
  {
   "cell_type": "code",
   "execution_count": 10,
   "metadata": {},
   "outputs": [
    {
     "data": {
      "text/html": [
       "<div>\n",
       "<style scoped>\n",
       "    .dataframe tbody tr th:only-of-type {\n",
       "        vertical-align: middle;\n",
       "    }\n",
       "\n",
       "    .dataframe tbody tr th {\n",
       "        vertical-align: top;\n",
       "    }\n",
       "\n",
       "    .dataframe thead th {\n",
       "        text-align: right;\n",
       "    }\n",
       "</style>\n",
       "<table border=\"1\" class=\"dataframe\">\n",
       "  <thead>\n",
       "    <tr style=\"text-align: right;\">\n",
       "      <th></th>\n",
       "      <th>id</th>\n",
       "      <th>radius_mean</th>\n",
       "      <th>texture_mean</th>\n",
       "      <th>perimeter_mean</th>\n",
       "      <th>area_mean</th>\n",
       "      <th>smoothness_mean</th>\n",
       "      <th>compactness_mean</th>\n",
       "      <th>concavity_mean</th>\n",
       "      <th>concave points_mean</th>\n",
       "      <th>symmetry_mean</th>\n",
       "      <th>...</th>\n",
       "      <th>perimeter_worst</th>\n",
       "      <th>area_worst</th>\n",
       "      <th>smoothness_worst</th>\n",
       "      <th>compactness_worst</th>\n",
       "      <th>concavity_worst</th>\n",
       "      <th>concave points_worst</th>\n",
       "      <th>symmetry_worst</th>\n",
       "      <th>fractal_dimension_worst</th>\n",
       "      <th>diagnosis_B</th>\n",
       "      <th>diagnosis_M</th>\n",
       "    </tr>\n",
       "  </thead>\n",
       "  <tbody>\n",
       "    <tr>\n",
       "      <th>0</th>\n",
       "      <td>842302</td>\n",
       "      <td>17.99</td>\n",
       "      <td>10.38</td>\n",
       "      <td>122.80</td>\n",
       "      <td>1001.0</td>\n",
       "      <td>0.11840</td>\n",
       "      <td>0.27760</td>\n",
       "      <td>0.3001</td>\n",
       "      <td>0.14710</td>\n",
       "      <td>0.2419</td>\n",
       "      <td>...</td>\n",
       "      <td>184.60</td>\n",
       "      <td>2019.0</td>\n",
       "      <td>0.1622</td>\n",
       "      <td>0.6656</td>\n",
       "      <td>0.7119</td>\n",
       "      <td>0.2654</td>\n",
       "      <td>0.4601</td>\n",
       "      <td>0.11890</td>\n",
       "      <td>0</td>\n",
       "      <td>1</td>\n",
       "    </tr>\n",
       "    <tr>\n",
       "      <th>1</th>\n",
       "      <td>842517</td>\n",
       "      <td>20.57</td>\n",
       "      <td>17.77</td>\n",
       "      <td>132.90</td>\n",
       "      <td>1326.0</td>\n",
       "      <td>0.08474</td>\n",
       "      <td>0.07864</td>\n",
       "      <td>0.0869</td>\n",
       "      <td>0.07017</td>\n",
       "      <td>0.1812</td>\n",
       "      <td>...</td>\n",
       "      <td>158.80</td>\n",
       "      <td>1956.0</td>\n",
       "      <td>0.1238</td>\n",
       "      <td>0.1866</td>\n",
       "      <td>0.2416</td>\n",
       "      <td>0.1860</td>\n",
       "      <td>0.2750</td>\n",
       "      <td>0.08902</td>\n",
       "      <td>0</td>\n",
       "      <td>1</td>\n",
       "    </tr>\n",
       "    <tr>\n",
       "      <th>2</th>\n",
       "      <td>84300903</td>\n",
       "      <td>19.69</td>\n",
       "      <td>21.25</td>\n",
       "      <td>130.00</td>\n",
       "      <td>1203.0</td>\n",
       "      <td>0.10960</td>\n",
       "      <td>0.15990</td>\n",
       "      <td>0.1974</td>\n",
       "      <td>0.12790</td>\n",
       "      <td>0.2069</td>\n",
       "      <td>...</td>\n",
       "      <td>152.50</td>\n",
       "      <td>1709.0</td>\n",
       "      <td>0.1444</td>\n",
       "      <td>0.4245</td>\n",
       "      <td>0.4504</td>\n",
       "      <td>0.2430</td>\n",
       "      <td>0.3613</td>\n",
       "      <td>0.08758</td>\n",
       "      <td>0</td>\n",
       "      <td>1</td>\n",
       "    </tr>\n",
       "    <tr>\n",
       "      <th>3</th>\n",
       "      <td>84348301</td>\n",
       "      <td>11.42</td>\n",
       "      <td>20.38</td>\n",
       "      <td>77.58</td>\n",
       "      <td>386.1</td>\n",
       "      <td>0.14250</td>\n",
       "      <td>0.28390</td>\n",
       "      <td>0.2414</td>\n",
       "      <td>0.10520</td>\n",
       "      <td>0.2597</td>\n",
       "      <td>...</td>\n",
       "      <td>98.87</td>\n",
       "      <td>567.7</td>\n",
       "      <td>0.2098</td>\n",
       "      <td>0.8663</td>\n",
       "      <td>0.6869</td>\n",
       "      <td>0.2575</td>\n",
       "      <td>0.6638</td>\n",
       "      <td>0.17300</td>\n",
       "      <td>0</td>\n",
       "      <td>1</td>\n",
       "    </tr>\n",
       "    <tr>\n",
       "      <th>4</th>\n",
       "      <td>84358402</td>\n",
       "      <td>20.29</td>\n",
       "      <td>14.34</td>\n",
       "      <td>135.10</td>\n",
       "      <td>1297.0</td>\n",
       "      <td>0.10030</td>\n",
       "      <td>0.13280</td>\n",
       "      <td>0.1980</td>\n",
       "      <td>0.10430</td>\n",
       "      <td>0.1809</td>\n",
       "      <td>...</td>\n",
       "      <td>152.20</td>\n",
       "      <td>1575.0</td>\n",
       "      <td>0.1374</td>\n",
       "      <td>0.2050</td>\n",
       "      <td>0.4000</td>\n",
       "      <td>0.1625</td>\n",
       "      <td>0.2364</td>\n",
       "      <td>0.07678</td>\n",
       "      <td>0</td>\n",
       "      <td>1</td>\n",
       "    </tr>\n",
       "  </tbody>\n",
       "</table>\n",
       "<p>5 rows × 33 columns</p>\n",
       "</div>"
      ],
      "text/plain": [
       "         id  radius_mean  texture_mean  perimeter_mean  area_mean  \\\n",
       "0    842302        17.99         10.38          122.80     1001.0   \n",
       "1    842517        20.57         17.77          132.90     1326.0   \n",
       "2  84300903        19.69         21.25          130.00     1203.0   \n",
       "3  84348301        11.42         20.38           77.58      386.1   \n",
       "4  84358402        20.29         14.34          135.10     1297.0   \n",
       "\n",
       "   smoothness_mean  compactness_mean  concavity_mean  concave points_mean  \\\n",
       "0          0.11840           0.27760          0.3001              0.14710   \n",
       "1          0.08474           0.07864          0.0869              0.07017   \n",
       "2          0.10960           0.15990          0.1974              0.12790   \n",
       "3          0.14250           0.28390          0.2414              0.10520   \n",
       "4          0.10030           0.13280          0.1980              0.10430   \n",
       "\n",
       "   symmetry_mean  ...  perimeter_worst  area_worst  smoothness_worst  \\\n",
       "0         0.2419  ...           184.60      2019.0            0.1622   \n",
       "1         0.1812  ...           158.80      1956.0            0.1238   \n",
       "2         0.2069  ...           152.50      1709.0            0.1444   \n",
       "3         0.2597  ...            98.87       567.7            0.2098   \n",
       "4         0.1809  ...           152.20      1575.0            0.1374   \n",
       "\n",
       "   compactness_worst  concavity_worst  concave points_worst  symmetry_worst  \\\n",
       "0             0.6656           0.7119                0.2654          0.4601   \n",
       "1             0.1866           0.2416                0.1860          0.2750   \n",
       "2             0.4245           0.4504                0.2430          0.3613   \n",
       "3             0.8663           0.6869                0.2575          0.6638   \n",
       "4             0.2050           0.4000                0.1625          0.2364   \n",
       "\n",
       "   fractal_dimension_worst  diagnosis_B  diagnosis_M  \n",
       "0                  0.11890            0            1  \n",
       "1                  0.08902            0            1  \n",
       "2                  0.08758            0            1  \n",
       "3                  0.17300            0            1  \n",
       "4                  0.07678            0            1  \n",
       "\n",
       "[5 rows x 33 columns]"
      ]
     },
     "execution_count": 10,
     "metadata": {},
     "output_type": "execute_result"
    }
   ],
   "source": [
    "breast_dummy = pd.get_dummies(data = breast, columns = ['diagnosis'],\n",
    "                              prefix = ['diagnosis'])\n",
    "\n",
    "\n",
    "\n",
    "breast_dummy.head()"
   ]
  },
  {
   "cell_type": "code",
   "execution_count": 11,
   "metadata": {},
   "outputs": [
    {
     "data": {
      "text/html": [
       "<div>\n",
       "<style scoped>\n",
       "    .dataframe tbody tr th:only-of-type {\n",
       "        vertical-align: middle;\n",
       "    }\n",
       "\n",
       "    .dataframe tbody tr th {\n",
       "        vertical-align: top;\n",
       "    }\n",
       "\n",
       "    .dataframe thead th {\n",
       "        text-align: right;\n",
       "    }\n",
       "</style>\n",
       "<table border=\"1\" class=\"dataframe\">\n",
       "  <thead>\n",
       "    <tr style=\"text-align: right;\">\n",
       "      <th></th>\n",
       "      <th>radius_mean</th>\n",
       "      <th>texture_mean</th>\n",
       "      <th>perimeter_mean</th>\n",
       "      <th>area_mean</th>\n",
       "      <th>smoothness_mean</th>\n",
       "      <th>compactness_mean</th>\n",
       "      <th>concavity_mean</th>\n",
       "      <th>concave points_mean</th>\n",
       "      <th>symmetry_mean</th>\n",
       "      <th>fractal_dimension_mean</th>\n",
       "    </tr>\n",
       "  </thead>\n",
       "  <tbody>\n",
       "    <tr>\n",
       "      <th>0</th>\n",
       "      <td>17.99</td>\n",
       "      <td>10.38</td>\n",
       "      <td>122.80</td>\n",
       "      <td>1001.0</td>\n",
       "      <td>0.11840</td>\n",
       "      <td>0.27760</td>\n",
       "      <td>0.30010</td>\n",
       "      <td>0.14710</td>\n",
       "      <td>0.2419</td>\n",
       "      <td>0.07871</td>\n",
       "    </tr>\n",
       "    <tr>\n",
       "      <th>1</th>\n",
       "      <td>20.57</td>\n",
       "      <td>17.77</td>\n",
       "      <td>132.90</td>\n",
       "      <td>1326.0</td>\n",
       "      <td>0.08474</td>\n",
       "      <td>0.07864</td>\n",
       "      <td>0.08690</td>\n",
       "      <td>0.07017</td>\n",
       "      <td>0.1812</td>\n",
       "      <td>0.05667</td>\n",
       "    </tr>\n",
       "    <tr>\n",
       "      <th>2</th>\n",
       "      <td>19.69</td>\n",
       "      <td>21.25</td>\n",
       "      <td>130.00</td>\n",
       "      <td>1203.0</td>\n",
       "      <td>0.10960</td>\n",
       "      <td>0.15990</td>\n",
       "      <td>0.19740</td>\n",
       "      <td>0.12790</td>\n",
       "      <td>0.2069</td>\n",
       "      <td>0.05999</td>\n",
       "    </tr>\n",
       "    <tr>\n",
       "      <th>3</th>\n",
       "      <td>11.42</td>\n",
       "      <td>20.38</td>\n",
       "      <td>77.58</td>\n",
       "      <td>386.1</td>\n",
       "      <td>0.14250</td>\n",
       "      <td>0.28390</td>\n",
       "      <td>0.24140</td>\n",
       "      <td>0.10520</td>\n",
       "      <td>0.2597</td>\n",
       "      <td>0.09744</td>\n",
       "    </tr>\n",
       "    <tr>\n",
       "      <th>4</th>\n",
       "      <td>20.29</td>\n",
       "      <td>14.34</td>\n",
       "      <td>135.10</td>\n",
       "      <td>1297.0</td>\n",
       "      <td>0.10030</td>\n",
       "      <td>0.13280</td>\n",
       "      <td>0.19800</td>\n",
       "      <td>0.10430</td>\n",
       "      <td>0.1809</td>\n",
       "      <td>0.05883</td>\n",
       "    </tr>\n",
       "    <tr>\n",
       "      <th>...</th>\n",
       "      <td>...</td>\n",
       "      <td>...</td>\n",
       "      <td>...</td>\n",
       "      <td>...</td>\n",
       "      <td>...</td>\n",
       "      <td>...</td>\n",
       "      <td>...</td>\n",
       "      <td>...</td>\n",
       "      <td>...</td>\n",
       "      <td>...</td>\n",
       "    </tr>\n",
       "    <tr>\n",
       "      <th>564</th>\n",
       "      <td>21.56</td>\n",
       "      <td>22.39</td>\n",
       "      <td>142.00</td>\n",
       "      <td>1479.0</td>\n",
       "      <td>0.11100</td>\n",
       "      <td>0.11590</td>\n",
       "      <td>0.24390</td>\n",
       "      <td>0.13890</td>\n",
       "      <td>0.1726</td>\n",
       "      <td>0.05623</td>\n",
       "    </tr>\n",
       "    <tr>\n",
       "      <th>565</th>\n",
       "      <td>20.13</td>\n",
       "      <td>28.25</td>\n",
       "      <td>131.20</td>\n",
       "      <td>1261.0</td>\n",
       "      <td>0.09780</td>\n",
       "      <td>0.10340</td>\n",
       "      <td>0.14400</td>\n",
       "      <td>0.09791</td>\n",
       "      <td>0.1752</td>\n",
       "      <td>0.05533</td>\n",
       "    </tr>\n",
       "    <tr>\n",
       "      <th>566</th>\n",
       "      <td>16.60</td>\n",
       "      <td>28.08</td>\n",
       "      <td>108.30</td>\n",
       "      <td>858.1</td>\n",
       "      <td>0.08455</td>\n",
       "      <td>0.10230</td>\n",
       "      <td>0.09251</td>\n",
       "      <td>0.05302</td>\n",
       "      <td>0.1590</td>\n",
       "      <td>0.05648</td>\n",
       "    </tr>\n",
       "    <tr>\n",
       "      <th>567</th>\n",
       "      <td>20.60</td>\n",
       "      <td>29.33</td>\n",
       "      <td>140.10</td>\n",
       "      <td>1265.0</td>\n",
       "      <td>0.11780</td>\n",
       "      <td>0.27700</td>\n",
       "      <td>0.35140</td>\n",
       "      <td>0.15200</td>\n",
       "      <td>0.2397</td>\n",
       "      <td>0.07016</td>\n",
       "    </tr>\n",
       "    <tr>\n",
       "      <th>568</th>\n",
       "      <td>7.76</td>\n",
       "      <td>24.54</td>\n",
       "      <td>47.92</td>\n",
       "      <td>181.0</td>\n",
       "      <td>0.05263</td>\n",
       "      <td>0.04362</td>\n",
       "      <td>0.00000</td>\n",
       "      <td>0.00000</td>\n",
       "      <td>0.1587</td>\n",
       "      <td>0.05884</td>\n",
       "    </tr>\n",
       "  </tbody>\n",
       "</table>\n",
       "<p>569 rows × 10 columns</p>\n",
       "</div>"
      ],
      "text/plain": [
       "     radius_mean  texture_mean  perimeter_mean  area_mean  smoothness_mean  \\\n",
       "0          17.99         10.38          122.80     1001.0          0.11840   \n",
       "1          20.57         17.77          132.90     1326.0          0.08474   \n",
       "2          19.69         21.25          130.00     1203.0          0.10960   \n",
       "3          11.42         20.38           77.58      386.1          0.14250   \n",
       "4          20.29         14.34          135.10     1297.0          0.10030   \n",
       "..           ...           ...             ...        ...              ...   \n",
       "564        21.56         22.39          142.00     1479.0          0.11100   \n",
       "565        20.13         28.25          131.20     1261.0          0.09780   \n",
       "566        16.60         28.08          108.30      858.1          0.08455   \n",
       "567        20.60         29.33          140.10     1265.0          0.11780   \n",
       "568         7.76         24.54           47.92      181.0          0.05263   \n",
       "\n",
       "     compactness_mean  concavity_mean  concave points_mean  symmetry_mean  \\\n",
       "0             0.27760         0.30010              0.14710         0.2419   \n",
       "1             0.07864         0.08690              0.07017         0.1812   \n",
       "2             0.15990         0.19740              0.12790         0.2069   \n",
       "3             0.28390         0.24140              0.10520         0.2597   \n",
       "4             0.13280         0.19800              0.10430         0.1809   \n",
       "..                ...             ...                  ...            ...   \n",
       "564           0.11590         0.24390              0.13890         0.1726   \n",
       "565           0.10340         0.14400              0.09791         0.1752   \n",
       "566           0.10230         0.09251              0.05302         0.1590   \n",
       "567           0.27700         0.35140              0.15200         0.2397   \n",
       "568           0.04362         0.00000              0.00000         0.1587   \n",
       "\n",
       "     fractal_dimension_mean  \n",
       "0                   0.07871  \n",
       "1                   0.05667  \n",
       "2                   0.05999  \n",
       "3                   0.09744  \n",
       "4                   0.05883  \n",
       "..                      ...  \n",
       "564                 0.05623  \n",
       "565                 0.05533  \n",
       "566                 0.05648  \n",
       "567                 0.07016  \n",
       "568                 0.05884  \n",
       "\n",
       "[569 rows x 10 columns]"
      ]
     },
     "execution_count": 11,
     "metadata": {},
     "output_type": "execute_result"
    }
   ],
   "source": [
    "#define X variable\n",
    "x = breast_dummy.iloc[:,1:11]\n",
    "x"
   ]
  },
  {
   "cell_type": "code",
   "execution_count": 12,
   "metadata": {},
   "outputs": [
    {
     "data": {
      "text/plain": [
       "0      1\n",
       "1      1\n",
       "2      1\n",
       "3      1\n",
       "4      1\n",
       "      ..\n",
       "564    1\n",
       "565    1\n",
       "566    1\n",
       "567    1\n",
       "568    0\n",
       "Name: diagnosis_M, Length: 569, dtype: uint8"
      ]
     },
     "execution_count": 12,
     "metadata": {},
     "output_type": "execute_result"
    }
   ],
   "source": [
    "#define y variable\n",
    "y = breast_dummy['diagnosis_M']\n",
    "y"
   ]
  },
  {
   "cell_type": "markdown",
   "metadata": {
    "colab_type": "text",
    "id": "GosA2UJXYFtu"
   },
   "source": [
    "### 3. Logistic Regression Model\n",
    "\n",
    "#### 3.1 Use Logistic Regression\n",
    "\n",
    "Use Logistic Regression and examine accuracy score, confusion matrix, classification report for that model."
   ]
  },
  {
   "cell_type": "markdown",
   "metadata": {
    "colab_type": "text",
    "id": "GCYINgENYFtw"
   },
   "source": [
    "#### 3.2 Calculate the predicted labels and predicted probabilities on the test set."
   ]
  },
  {
   "cell_type": "code",
   "execution_count": 13,
   "metadata": {
    "ExecuteTime": {
     "end_time": "2019-05-06T03:07:34.783478Z",
     "start_time": "2019-05-06T03:07:34.777492Z"
    },
    "colab": {},
    "colab_type": "code",
    "id": "sHo6u5jMYFty"
   },
   "outputs": [
    {
     "data": {
      "text/plain": [
       "0.910761154855643"
      ]
     },
     "execution_count": 13,
     "metadata": {},
     "output_type": "execute_result"
    }
   ],
   "source": [
    "#Build Model\n",
    "reg = LogisticRegression()\n",
    "\n",
    "#Fit Model\n",
    "x_train, x_test, y_train, y_test = train_test_split(x, y, test_size=0.33, random_state=42)\n",
    "\n",
    "reg.fit(x_train, y_train)\n",
    "\n",
    "reg.score(x_train, y_train)\n",
    "\n",
    "#Score"
   ]
  },
  {
   "cell_type": "code",
   "execution_count": 14,
   "metadata": {},
   "outputs": [],
   "source": [
    "y_pred = reg.predict(x_test)"
   ]
  },
  {
   "cell_type": "code",
   "execution_count": 15,
   "metadata": {},
   "outputs": [
    {
     "data": {
      "text/plain": [
       "array([0, 1, 1, 0, 0, 1, 1, 1, 0, 0, 0, 1, 0, 1, 0, 1, 0, 0, 0, 1, 0, 0,\n",
       "       1, 0, 0, 0, 0, 0, 0, 1, 0, 0, 0, 0, 0, 0, 1, 0, 1, 1, 0, 1, 0, 0,\n",
       "       0, 0, 0, 0, 0, 0, 1, 1, 1, 0, 0, 0, 0, 1, 0, 0, 0, 1, 1, 1, 0, 0,\n",
       "       1, 1, 0, 0, 1, 1, 0, 1, 0, 0, 0, 0, 0, 0, 1, 0, 1, 1, 1, 1, 1, 1,\n",
       "       0, 0, 0, 0, 1, 0, 0, 0, 1, 1, 0, 1, 1, 0, 1, 1, 0, 0, 0, 1, 0, 0,\n",
       "       1, 0, 1, 1, 0, 1, 0, 0, 0, 1, 1, 0, 0, 1, 0, 1, 1, 0, 0, 1, 1, 1,\n",
       "       0, 0, 0, 1, 0, 0, 0, 1, 0, 1, 0, 0, 1, 0, 1, 1, 1, 0, 1, 0, 0, 0,\n",
       "       0, 1, 1, 0, 0, 0, 0, 0, 0, 0, 1, 0, 0, 1, 0, 1, 0, 0, 0, 1, 0, 0,\n",
       "       1, 0, 0, 0, 0, 0, 0, 1, 1, 1, 1, 0], dtype=uint8)"
      ]
     },
     "execution_count": 15,
     "metadata": {},
     "output_type": "execute_result"
    }
   ],
   "source": [
    "y_pred"
   ]
  },
  {
   "cell_type": "markdown",
   "metadata": {
    "colab_type": "text",
    "id": "aqOb0ZeoYFt3"
   },
   "source": [
    "#### 3.3 Create the confusion matrix for your classfier's performance on the test set.\n",
    "\n",
    "Convert confusion_matrix to a dataframe. \n",
    "\n",
    "    index=['is_cancer', 'is_healthy']\n",
    "    columns=['predicted_cancer','predicted_healthy']"
   ]
  },
  {
   "cell_type": "code",
   "execution_count": 19,
   "metadata": {
    "ExecuteTime": {
     "end_time": "2019-05-06T06:11:46.809561Z",
     "start_time": "2019-05-06T06:11:46.805571Z"
    },
    "colab": {},
    "colab_type": "code",
    "id": "qQQ-xS0pYFt5",
    "scrolled": true
   },
   "outputs": [
    {
     "name": "stdout",
     "output_type": "stream",
     "text": [
      "[[112   9]\n",
      " [  3  64]]\n"
     ]
    }
   ],
   "source": [
    "# ANSWER\n",
    "from sklearn.metrics import confusion_matrix \n",
    "from sklearn import metrics\n",
    "\n",
    "confuse = metrics.confusion_matrix(y_test, y_pred)\n",
    "print(confuse)"
   ]
  },
  {
   "cell_type": "code",
   "execution_count": 20,
   "metadata": {},
   "outputs": [
    {
     "name": "stdout",
     "output_type": "stream",
     "text": [
      "            predicted_cancer  predicted_healthy\n",
      "is_cancer                112                  9\n",
      "is_healthy                 3                 64\n"
     ]
    }
   ],
   "source": [
    "confusion_matrix = pd.DataFrame(confuse, index=['is_cancer', 'is_healthy'], columns=['predicted_cancer','predicted_healthy'] )\n",
    "print(confusion_matrix)"
   ]
  },
  {
   "cell_type": "markdown",
   "metadata": {
    "ExecuteTime": {
     "end_time": "2019-05-06T03:13:53.991939Z",
     "start_time": "2019-05-06T03:13:53.988945Z"
    },
    "colab_type": "text",
    "id": "ItAGpq10YFt9"
   },
   "source": [
    "#### 3.4 Calculate Accuracy\n",
    "\n",
    "**Classification Accuracy:** Overall, how often is the classifier correct?\n",
    "    \n",
    "    (TP + TN) / float(TP + TN + FP + FN)"
   ]
  },
  {
   "cell_type": "code",
   "execution_count": 21,
   "metadata": {
    "ExecuteTime": {
     "end_time": "2019-05-06T06:12:15.849900Z",
     "start_time": "2019-05-06T06:12:15.844914Z"
    },
    "colab": {},
    "colab_type": "code",
    "id": "-QYnqKJuYFt-"
   },
   "outputs": [
    {
     "data": {
      "text/plain": [
       "0.9361702127659575"
      ]
     },
     "execution_count": 21,
     "metadata": {},
     "output_type": "execute_result"
    }
   ],
   "source": [
    "# ANSWER\n",
    "# use float to perform true division, not integer division\n",
    "\n",
    "TP = 64\n",
    "TN = 112\n",
    "FP = 9\n",
    "FN = 3\n",
    "\n",
    "Answer = (TP + TN) / float(TP + TN + FP + FN)\n",
    "Answer"
   ]
  },
  {
   "cell_type": "code",
   "execution_count": 22,
   "metadata": {},
   "outputs": [
    {
     "data": {
      "text/plain": [
       "0.9361702127659575"
      ]
     },
     "execution_count": 22,
     "metadata": {},
     "output_type": "execute_result"
    }
   ],
   "source": [
    "metrics.accuracy_score(y_test, y_pred)"
   ]
  },
  {
   "cell_type": "markdown",
   "metadata": {
    "ExecuteTime": {
     "end_time": "2019-05-06T03:16:42.304954Z",
     "start_time": "2019-05-06T03:16:42.294989Z"
    },
    "colab_type": "text",
    "id": "XzYMnKx7YFuE"
   },
   "source": [
    "#### 3.5 Calculate Classification Error\n",
    "\n",
    "**Classification Error:** Overall, how often is the classifier incorrect?\n",
    "\n",
    "Also known as \"Misclassification Rate\"\n",
    "\n",
    "    (FP + FN) / float(TP + TN + FP + FN)"
   ]
  },
  {
   "cell_type": "code",
   "execution_count": 23,
   "metadata": {
    "ExecuteTime": {
     "end_time": "2019-05-06T06:12:25.745105Z",
     "start_time": "2019-05-06T06:12:25.740118Z"
    },
    "colab": {},
    "colab_type": "code",
    "id": "my9v_1oPYFuF"
   },
   "outputs": [
    {
     "data": {
      "text/plain": [
       "0.06382978723404255"
      ]
     },
     "execution_count": 23,
     "metadata": {},
     "output_type": "execute_result"
    }
   ],
   "source": [
    "# ANSWER\n",
    "(FP + FN) / float(TP + TN + FP + FN)"
   ]
  },
  {
   "cell_type": "code",
   "execution_count": 24,
   "metadata": {},
   "outputs": [
    {
     "data": {
      "text/plain": [
       "0.06382978723404253"
      ]
     },
     "execution_count": 24,
     "metadata": {},
     "output_type": "execute_result"
    }
   ],
   "source": [
    "1 - metrics.accuracy_score(y_test, y_pred)"
   ]
  },
  {
   "cell_type": "markdown",
   "metadata": {
    "ExecuteTime": {
     "end_time": "2019-05-06T03:19:14.164577Z",
     "start_time": "2019-05-06T03:19:14.151614Z"
    },
    "colab_type": "text",
    "id": "jRqYr1YKYFuK"
   },
   "source": [
    "#### 3.6 Calculate Sensitivity\n",
    "\n",
    "**Sensitivity:** When the actual value is positive, how often is the prediction correct?\n",
    "\n",
    "Something we want to maximize\n",
    "How \"sensitive\" is the classifier to detecting positive instances?\n",
    "- Also known as \"True Positive Rate\" or \"Recall\"\n",
    "- TP / all positive\n",
    "    - all positive = TP + FN\n",
    "    \n",
    "    sensitivity = TP / float(FN + TP)"
   ]
  },
  {
   "cell_type": "code",
   "execution_count": 25,
   "metadata": {
    "ExecuteTime": {
     "end_time": "2019-05-06T06:12:34.315302Z",
     "start_time": "2019-05-06T06:12:34.311273Z"
    },
    "colab": {},
    "colab_type": "code",
    "id": "yvnfXQF7YFuM"
   },
   "outputs": [
    {
     "data": {
      "text/plain": [
       "67"
      ]
     },
     "execution_count": 25,
     "metadata": {},
     "output_type": "execute_result"
    }
   ],
   "source": [
    "# ANSWER- sensitivity is the total number of positive cases you have predicted correctly (recall)\n",
    "\n",
    "all_positive = TP + FN\n",
    "all_positive"
   ]
  },
  {
   "cell_type": "code",
   "execution_count": 26,
   "metadata": {},
   "outputs": [
    {
     "data": {
      "text/plain": [
       "0.9552238805970149"
      ]
     },
     "execution_count": 26,
     "metadata": {},
     "output_type": "execute_result"
    }
   ],
   "source": [
    "sensitivity = TP/float(FN+TP)\n",
    "sensitivity"
   ]
  },
  {
   "cell_type": "code",
   "execution_count": 27,
   "metadata": {},
   "outputs": [
    {
     "data": {
      "text/plain": [
       "0.9552238805970149"
      ]
     },
     "execution_count": 27,
     "metadata": {},
     "output_type": "execute_result"
    }
   ],
   "source": [
    "metrics.recall_score(y_test, y_pred)"
   ]
  },
  {
   "cell_type": "markdown",
   "metadata": {
    "colab_type": "text",
    "id": "SZ67_HJXYFuR"
   },
   "source": [
    "#### 3.7 Calculate Specificity\n",
    "\n",
    "**Specificity:** When the actual value is negative, how often is the prediction correct?\n",
    "\n",
    "- Something we want to maximize. How \"specific\" (or \"selective\") is the classifier in predicting positive instances?\n",
    "- TN / all negative\n",
    "    - all negative = TN + FP\n",
    "    \n",
    "    specificity = TN / (TN + FP)"
   ]
  },
  {
   "cell_type": "code",
   "execution_count": 28,
   "metadata": {
    "ExecuteTime": {
     "end_time": "2019-05-06T06:12:42.791861Z",
     "start_time": "2019-05-06T06:12:42.787881Z"
    },
    "colab": {},
    "colab_type": "code",
    "id": "1JXPnSQKYFuT"
   },
   "outputs": [
    {
     "data": {
      "text/plain": [
       "121"
      ]
     },
     "execution_count": 28,
     "metadata": {},
     "output_type": "execute_result"
    }
   ],
   "source": [
    "# ANSWER\n",
    "all_negative = TN+FP\n",
    "all_negative"
   ]
  },
  {
   "cell_type": "code",
   "execution_count": 29,
   "metadata": {},
   "outputs": [
    {
     "data": {
      "text/plain": [
       "0.9256198347107438"
      ]
     },
     "execution_count": 29,
     "metadata": {},
     "output_type": "execute_result"
    }
   ],
   "source": [
    "specificity = TN/(TN+FP)\n",
    "specificity"
   ]
  },
  {
   "cell_type": "markdown",
   "metadata": {
    "colab_type": "text",
    "id": "V0dsG6JsYFuY"
   },
   "source": [
    "#### 3.8 Calculate False Positive Rate\n",
    "\n",
    "**False Positive Rate:** When the actual value is negative, how often is the prediction incorrect?\n",
    "\n",
    "    false_positive_rate = FP / float(TN + FP)"
   ]
  },
  {
   "cell_type": "code",
   "execution_count": 30,
   "metadata": {
    "ExecuteTime": {
     "end_time": "2019-05-06T06:12:48.087486Z",
     "start_time": "2019-05-06T06:12:48.082501Z"
    },
    "colab": {},
    "colab_type": "code",
    "id": "GuV-0OA7YFuZ"
   },
   "outputs": [
    {
     "data": {
      "text/plain": [
       "0.0743801652892562"
      ]
     },
     "execution_count": 30,
     "metadata": {},
     "output_type": "execute_result"
    }
   ],
   "source": [
    "# ANSWER\n",
    "false_positive_rate = FP / float(TN + FP)\n",
    "false_positive_rate"
   ]
  },
  {
   "cell_type": "code",
   "execution_count": 31,
   "metadata": {},
   "outputs": [
    {
     "data": {
      "text/plain": [
       "0.07438016528925617"
      ]
     },
     "execution_count": 31,
     "metadata": {},
     "output_type": "execute_result"
    }
   ],
   "source": [
    "1-specificity"
   ]
  },
  {
   "cell_type": "markdown",
   "metadata": {
    "colab_type": "text",
    "id": "xwxBJ8BOYFue"
   },
   "source": [
    "#### 3.9 Calculate Precision\n",
    "\n",
    "**Precision:** When a positive value is predicted, how often is the prediction correct?\n",
    "\n",
    "How \"precise\" is the classifier when predicting positive instances?\n",
    "\n",
    "    precision = TP / float(TP + FP)"
   ]
  },
  {
   "cell_type": "code",
   "execution_count": 32,
   "metadata": {
    "ExecuteTime": {
     "end_time": "2019-05-06T06:12:53.258617Z",
     "start_time": "2019-05-06T06:12:53.254602Z"
    },
    "colab": {},
    "colab_type": "code",
    "id": "H5rH2xDZYFug"
   },
   "outputs": [
    {
     "data": {
      "text/plain": [
       "0.8767123287671232"
      ]
     },
     "execution_count": 32,
     "metadata": {},
     "output_type": "execute_result"
    }
   ],
   "source": [
    "# ANSWER\n",
    "precision = TP / float(TP + FP)\n",
    "precision"
   ]
  },
  {
   "cell_type": "code",
   "execution_count": 33,
   "metadata": {},
   "outputs": [
    {
     "data": {
      "text/plain": [
       "0.8767123287671232"
      ]
     },
     "execution_count": 33,
     "metadata": {},
     "output_type": "execute_result"
    }
   ],
   "source": [
    "metrics.precision_score(y_test, y_pred)\n"
   ]
  },
  {
   "cell_type": "markdown",
   "metadata": {
    "ExecuteTime": {
     "end_time": "2019-05-06T03:12:41.411567Z",
     "start_time": "2019-05-06T03:12:41.408564Z"
    },
    "colab_type": "text",
    "id": "UWfNwXoxYFul"
   },
   "source": [
    "#### 3.10 Create a predicted test probability dataframe with column name 'class_0_pp','class_1_pp'"
   ]
  },
  {
   "cell_type": "code",
   "execution_count": 34,
   "metadata": {
    "ExecuteTime": {
     "end_time": "2019-05-06T06:13:07.105068Z",
     "start_time": "2019-05-06T06:13:07.101078Z"
    },
    "colab": {},
    "colab_type": "code",
    "id": "NwjByfFkYFum"
   },
   "outputs": [
    {
     "data": {
      "text/plain": [
       "array([[8.96252933e-01, 1.03747067e-01],\n",
       "       [2.52674847e-02, 9.74732515e-01],\n",
       "       [2.14168545e-01, 7.85831455e-01],\n",
       "       [8.67812438e-01, 1.32187562e-01],\n",
       "       [9.83811484e-01, 1.61885158e-02],\n",
       "       [2.41287827e-05, 9.99975871e-01],\n",
       "       [2.65948258e-04, 9.99734052e-01],\n",
       "       [1.60061545e-01, 8.39938455e-01],\n",
       "       [8.63880114e-01, 1.36119886e-01],\n",
       "       [9.08649308e-01, 9.13506924e-02],\n",
       "       [7.68375426e-01, 2.31624574e-01],\n",
       "       [1.90160218e-01, 8.09839782e-01],\n",
       "       [7.21803246e-01, 2.78196754e-01],\n",
       "       [5.56155283e-02, 9.44384472e-01],\n",
       "       [9.88949202e-01, 1.10507980e-02],\n",
       "       [4.40571627e-04, 9.99559428e-01],\n",
       "       [8.88580006e-01, 1.11419994e-01],\n",
       "       [9.93092540e-01, 6.90745960e-03],\n",
       "       [9.99943830e-01, 5.61701645e-05],\n",
       "       [8.56352299e-04, 9.99143648e-01],\n",
       "       [7.61811218e-01, 2.38188782e-01],\n",
       "       [9.54146172e-01, 4.58538278e-02],\n",
       "       [2.80390240e-04, 9.99719610e-01],\n",
       "       [9.94498198e-01, 5.50180210e-03],\n",
       "       [9.23377657e-01, 7.66223426e-02],\n",
       "       [9.45092980e-01, 5.49070199e-02],\n",
       "       [9.46746295e-01, 5.32537051e-02],\n",
       "       [9.51981515e-01, 4.80184849e-02],\n",
       "       [9.26542140e-01, 7.34578597e-02],\n",
       "       [1.17286800e-02, 9.88271320e-01],\n",
       "       [9.56617500e-01, 4.33824996e-02],\n",
       "       [9.92163351e-01, 7.83664901e-03],\n",
       "       [9.95926188e-01, 4.07381229e-03],\n",
       "       [9.15072106e-01, 8.49278944e-02],\n",
       "       [9.94588009e-01, 5.41199064e-03],\n",
       "       [9.81825155e-01, 1.81748447e-02],\n",
       "       [3.01772560e-01, 6.98227440e-01],\n",
       "       [9.94220248e-01, 5.77975152e-03],\n",
       "       [3.69214069e-02, 9.63078593e-01],\n",
       "       [3.79289338e-01, 6.20710662e-01],\n",
       "       [9.87451726e-01, 1.25482741e-02],\n",
       "       [1.73206339e-01, 8.26793661e-01],\n",
       "       [9.69739608e-01, 3.02603922e-02],\n",
       "       [9.73339500e-01, 2.66604999e-02],\n",
       "       [9.73172209e-01, 2.68277912e-02],\n",
       "       [9.68624053e-01, 3.13759465e-02],\n",
       "       [9.98443280e-01, 1.55672000e-03],\n",
       "       [9.87303182e-01, 1.26968177e-02],\n",
       "       [9.52454001e-01, 4.75459989e-02],\n",
       "       [9.07500673e-01, 9.24993271e-02],\n",
       "       [9.40388908e-02, 9.05961109e-01],\n",
       "       [1.61332626e-03, 9.98386674e-01],\n",
       "       [4.12869481e-01, 5.87130519e-01],\n",
       "       [8.96234197e-01, 1.03765803e-01],\n",
       "       [9.57185989e-01, 4.28140108e-02],\n",
       "       [9.24778267e-01, 7.52217332e-02],\n",
       "       [9.92279976e-01, 7.72002354e-03],\n",
       "       [2.18395852e-06, 9.99997816e-01],\n",
       "       [5.71393316e-01, 4.28606684e-01],\n",
       "       [9.94436617e-01, 5.56338287e-03],\n",
       "       [9.02663525e-01, 9.73364748e-02],\n",
       "       [4.94368263e-03, 9.95056317e-01],\n",
       "       [1.71242691e-03, 9.98287573e-01],\n",
       "       [4.02949620e-01, 5.97050380e-01],\n",
       "       [9.72725670e-01, 2.72743304e-02],\n",
       "       [7.97457547e-01, 2.02542453e-01],\n",
       "       [2.87666880e-02, 9.71233312e-01],\n",
       "       [2.83389960e-06, 9.99997166e-01],\n",
       "       [9.82094431e-01, 1.79055692e-02],\n",
       "       [8.09391740e-01, 1.90608260e-01],\n",
       "       [3.75993995e-01, 6.24006005e-01],\n",
       "       [2.64030071e-01, 7.35969929e-01],\n",
       "       [8.95714603e-01, 1.04285397e-01],\n",
       "       [4.82629065e-02, 9.51737093e-01],\n",
       "       [9.98858522e-01, 1.14147847e-03],\n",
       "       [9.12115944e-01, 8.78840565e-02],\n",
       "       [7.59268605e-01, 2.40731395e-01],\n",
       "       [6.82225318e-01, 3.17774682e-01],\n",
       "       [9.96451407e-01, 3.54859303e-03],\n",
       "       [9.88924997e-01, 1.10750028e-02],\n",
       "       [9.48449203e-02, 9.05155080e-01],\n",
       "       [9.94993332e-01, 5.00666830e-03],\n",
       "       [4.22179559e-01, 5.77820441e-01],\n",
       "       [8.41824753e-04, 9.99158175e-01],\n",
       "       [6.95454602e-02, 9.30454540e-01],\n",
       "       [7.77336352e-02, 9.22266365e-01],\n",
       "       [2.59611959e-01, 7.40388041e-01],\n",
       "       [3.20203556e-03, 9.96797964e-01],\n",
       "       [8.10597221e-01, 1.89402779e-01],\n",
       "       [9.69316361e-01, 3.06836394e-02],\n",
       "       [9.80271685e-01, 1.97283154e-02],\n",
       "       [7.83936900e-01, 2.16063100e-01],\n",
       "       [4.37533791e-01, 5.62466209e-01],\n",
       "       [9.18748138e-01, 8.12518618e-02],\n",
       "       [9.76635133e-01, 2.33648666e-02],\n",
       "       [9.96774176e-01, 3.22582447e-03],\n",
       "       [2.50535156e-03, 9.97494648e-01],\n",
       "       [2.12729603e-01, 7.87270397e-01],\n",
       "       [9.96406933e-01, 3.59306739e-03],\n",
       "       [3.63317733e-02, 9.63668227e-01],\n",
       "       [4.11104412e-01, 5.88895588e-01],\n",
       "       [9.99462910e-01, 5.37090085e-04],\n",
       "       [2.58168215e-02, 9.74183179e-01],\n",
       "       [3.46437732e-02, 9.65356227e-01],\n",
       "       [9.68668736e-01, 3.13312639e-02],\n",
       "       [9.66228676e-01, 3.37713236e-02],\n",
       "       [8.48658594e-01, 1.51341406e-01],\n",
       "       [1.30266360e-03, 9.98697336e-01],\n",
       "       [7.54285066e-01, 2.45714934e-01],\n",
       "       [7.94502571e-01, 2.05497429e-01],\n",
       "       [3.21167253e-01, 6.78832747e-01],\n",
       "       [9.88633933e-01, 1.13660671e-02],\n",
       "       [1.91561811e-01, 8.08438189e-01],\n",
       "       [1.09185761e-03, 9.98908142e-01],\n",
       "       [9.95471946e-01, 4.52805426e-03],\n",
       "       [4.67456030e-05, 9.99953254e-01],\n",
       "       [9.98708436e-01, 1.29156383e-03],\n",
       "       [9.60988613e-01, 3.90113871e-02],\n",
       "       [9.97669742e-01, 2.33025780e-03],\n",
       "       [4.79514885e-02, 9.52048512e-01],\n",
       "       [2.37275916e-01, 7.62724084e-01],\n",
       "       [9.90086919e-01, 9.91308124e-03],\n",
       "       [9.66322223e-01, 3.36777772e-02],\n",
       "       [8.89246958e-03, 9.91107530e-01],\n",
       "       [8.68917794e-01, 1.31082206e-01],\n",
       "       [5.20543778e-03, 9.94794562e-01],\n",
       "       [3.09485512e-01, 6.90514488e-01],\n",
       "       [9.96744433e-01, 3.25556651e-03],\n",
       "       [9.40652954e-01, 5.93470456e-02],\n",
       "       [1.65797244e-03, 9.98342028e-01],\n",
       "       [1.36615922e-02, 9.86338408e-01],\n",
       "       [3.43526167e-03, 9.96564738e-01],\n",
       "       [8.49524137e-01, 1.50475863e-01],\n",
       "       [9.79269951e-01, 2.07300492e-02],\n",
       "       [8.56398720e-01, 1.43601280e-01],\n",
       "       [2.06805784e-01, 7.93194216e-01],\n",
       "       [7.25309841e-01, 2.74690159e-01],\n",
       "       [9.90337013e-01, 9.66298731e-03],\n",
       "       [6.33153133e-01, 3.66846867e-01],\n",
       "       [4.25323980e-01, 5.74676020e-01],\n",
       "       [9.88237297e-01, 1.17627027e-02],\n",
       "       [8.76078692e-03, 9.91239213e-01],\n",
       "       [9.98097263e-01, 1.90273679e-03],\n",
       "       [9.86156010e-01, 1.38439901e-02],\n",
       "       [4.77217194e-01, 5.22782806e-01],\n",
       "       [8.76459342e-01, 1.23540658e-01],\n",
       "       [4.88388856e-03, 9.95116111e-01],\n",
       "       [4.22413451e-03, 9.95775865e-01],\n",
       "       [3.03772892e-01, 6.96227108e-01],\n",
       "       [9.22376860e-01, 7.76231395e-02],\n",
       "       [4.56490933e-01, 5.43509067e-01],\n",
       "       [9.86881113e-01, 1.31188873e-02],\n",
       "       [9.99564115e-01, 4.35885002e-04],\n",
       "       [8.70393919e-01, 1.29606081e-01],\n",
       "       [9.29591677e-01, 7.04083233e-02],\n",
       "       [2.70233934e-05, 9.99972977e-01],\n",
       "       [1.96825081e-03, 9.98031749e-01],\n",
       "       [9.99203142e-01, 7.96858181e-04],\n",
       "       [8.20578262e-01, 1.79421738e-01],\n",
       "       [9.93768587e-01, 6.23141307e-03],\n",
       "       [9.98419005e-01, 1.58099464e-03],\n",
       "       [9.96752166e-01, 3.24783413e-03],\n",
       "       [9.98314695e-01, 1.68530462e-03],\n",
       "       [8.59355169e-01, 1.40644831e-01],\n",
       "       [1.93716689e-01, 8.06283311e-01],\n",
       "       [9.94411749e-01, 5.58825108e-03],\n",
       "       [9.68522116e-01, 3.14778841e-02],\n",
       "       [3.64026888e-01, 6.35973112e-01],\n",
       "       [9.89261711e-01, 1.07382886e-02],\n",
       "       [1.35640260e-01, 8.64359740e-01],\n",
       "       [8.84076400e-01, 1.15923600e-01],\n",
       "       [8.84541395e-01, 1.15458605e-01],\n",
       "       [9.16209680e-01, 8.37903196e-02],\n",
       "       [3.72603847e-01, 6.27396153e-01],\n",
       "       [9.60144759e-01, 3.98552405e-02],\n",
       "       [7.36713632e-01, 2.63286368e-01],\n",
       "       [1.69063176e-01, 8.30936824e-01],\n",
       "       [6.62480418e-01, 3.37519582e-01],\n",
       "       [9.82360498e-01, 1.76395022e-02],\n",
       "       [8.45956434e-01, 1.54043566e-01],\n",
       "       [7.80194769e-01, 2.19805231e-01],\n",
       "       [9.86918364e-01, 1.30816356e-02],\n",
       "       [9.99048162e-01, 9.51838338e-04],\n",
       "       [2.83745420e-01, 7.16254580e-01],\n",
       "       [4.57847798e-02, 9.54215220e-01],\n",
       "       [4.65532093e-01, 5.34467907e-01],\n",
       "       [1.26391683e-01, 8.73608317e-01],\n",
       "       [9.23824008e-01, 7.61759921e-02]])"
      ]
     },
     "execution_count": 34,
     "metadata": {},
     "output_type": "execute_result"
    }
   ],
   "source": [
    "# ANSWER\n",
    "# Get the predicted probability vector and explicitly name the columns:)\n",
    "\n",
    "reg.predict_proba(x_test)"
   ]
  },
  {
   "cell_type": "code",
   "execution_count": 35,
   "metadata": {},
   "outputs": [],
   "source": [
    "y_pp = pd.DataFrame(reg.predict_proba(x_test), columns = ['class_0_pp','class_1_pp'])"
   ]
  },
  {
   "cell_type": "code",
   "execution_count": 36,
   "metadata": {},
   "outputs": [
    {
     "data": {
      "text/html": [
       "<div>\n",
       "<style scoped>\n",
       "    .dataframe tbody tr th:only-of-type {\n",
       "        vertical-align: middle;\n",
       "    }\n",
       "\n",
       "    .dataframe tbody tr th {\n",
       "        vertical-align: top;\n",
       "    }\n",
       "\n",
       "    .dataframe thead th {\n",
       "        text-align: right;\n",
       "    }\n",
       "</style>\n",
       "<table border=\"1\" class=\"dataframe\">\n",
       "  <thead>\n",
       "    <tr style=\"text-align: right;\">\n",
       "      <th></th>\n",
       "      <th>class_0_pp</th>\n",
       "      <th>class_1_pp</th>\n",
       "    </tr>\n",
       "  </thead>\n",
       "  <tbody>\n",
       "    <tr>\n",
       "      <th>0</th>\n",
       "      <td>0.896253</td>\n",
       "      <td>0.103747</td>\n",
       "    </tr>\n",
       "    <tr>\n",
       "      <th>1</th>\n",
       "      <td>0.025267</td>\n",
       "      <td>0.974733</td>\n",
       "    </tr>\n",
       "    <tr>\n",
       "      <th>2</th>\n",
       "      <td>0.214169</td>\n",
       "      <td>0.785831</td>\n",
       "    </tr>\n",
       "    <tr>\n",
       "      <th>3</th>\n",
       "      <td>0.867812</td>\n",
       "      <td>0.132188</td>\n",
       "    </tr>\n",
       "    <tr>\n",
       "      <th>4</th>\n",
       "      <td>0.983811</td>\n",
       "      <td>0.016189</td>\n",
       "    </tr>\n",
       "    <tr>\n",
       "      <th>...</th>\n",
       "      <td>...</td>\n",
       "      <td>...</td>\n",
       "    </tr>\n",
       "    <tr>\n",
       "      <th>183</th>\n",
       "      <td>0.283745</td>\n",
       "      <td>0.716255</td>\n",
       "    </tr>\n",
       "    <tr>\n",
       "      <th>184</th>\n",
       "      <td>0.045785</td>\n",
       "      <td>0.954215</td>\n",
       "    </tr>\n",
       "    <tr>\n",
       "      <th>185</th>\n",
       "      <td>0.465532</td>\n",
       "      <td>0.534468</td>\n",
       "    </tr>\n",
       "    <tr>\n",
       "      <th>186</th>\n",
       "      <td>0.126392</td>\n",
       "      <td>0.873608</td>\n",
       "    </tr>\n",
       "    <tr>\n",
       "      <th>187</th>\n",
       "      <td>0.923824</td>\n",
       "      <td>0.076176</td>\n",
       "    </tr>\n",
       "  </tbody>\n",
       "</table>\n",
       "<p>188 rows × 2 columns</p>\n",
       "</div>"
      ],
      "text/plain": [
       "     class_0_pp  class_1_pp\n",
       "0      0.896253    0.103747\n",
       "1      0.025267    0.974733\n",
       "2      0.214169    0.785831\n",
       "3      0.867812    0.132188\n",
       "4      0.983811    0.016189\n",
       "..          ...         ...\n",
       "183    0.283745    0.716255\n",
       "184    0.045785    0.954215\n",
       "185    0.465532    0.534468\n",
       "186    0.126392    0.873608\n",
       "187    0.923824    0.076176\n",
       "\n",
       "[188 rows x 2 columns]"
      ]
     },
     "execution_count": 36,
     "metadata": {},
     "output_type": "execute_result"
    }
   ],
   "source": [
    "y_pp"
   ]
  },
  {
   "cell_type": "markdown",
   "metadata": {
    "colab_type": "text",
    "id": "lLXy7TrPYFus"
   },
   "source": [
    "#### 3.11 The Receiver operating characteristic (ROC) curve\n",
    "\n",
    "Plot the ROC curve for Class 1"
   ]
  },
  {
   "cell_type": "code",
   "execution_count": 37,
   "metadata": {
    "ExecuteTime": {
     "end_time": "2019-05-06T03:12:54.882640Z",
     "start_time": "2019-05-06T03:12:54.878653Z"
    },
    "colab": {},
    "colab_type": "code",
    "id": "HqZSGS2jYFut"
   },
   "outputs": [],
   "source": [
    "from sklearn.metrics import roc_curve, auc"
   ]
  },
  {
   "cell_type": "code",
   "execution_count": 38,
   "metadata": {
    "ExecuteTime": {
     "end_time": "2019-05-06T06:14:29.000076Z",
     "start_time": "2019-05-06T06:14:28.754938Z"
    },
    "colab": {},
    "colab_type": "code",
    "id": "zsTfK0o-YFuy",
    "outputId": "cf602bcc-eb67-40b9-a3b9-4a07ed202a43"
   },
   "outputs": [
    {
     "data": {
      "image/png": "[encoded data removed]",
      "text/plain": [
       "<Figure size 432x288 with 1 Axes>"
      ]
     },
     "metadata": {
      "needs_background": "light"
     },
     "output_type": "display_data"
    }
   ],
   "source": [
    "# Generate the prediction values for each of the test observations using predict_proba() function rather than just predict\n",
    "preds = reg.predict_proba(x_test)[:,1]\n",
    "\n",
    "# Store the false positive rate(fpr), true positive rate (tpr) in vectors for use in the graph\n",
    "fpr, tpr, _ = metrics.roc_curve(y_test, preds)\n",
    "\n",
    "# Store the Area Under the Curve (AUC) so we can annotate our graph with theis metric\n",
    "roc_auc = metrics.auc(fpr, tpr)\n",
    "\n",
    "# Plot the ROC Curve\n",
    "plt.figure()\n",
    "lw = 2\n",
    "plt.plot(fpr, tpr, color='darkorange', lw = lw, label = 'ROC curve (area = %0.2f)' % roc_auc)\n",
    "plt.plot([0, 1], [0, 1], color = 'navy', lw = lw, linestyle = '--')\n",
    "plt.xlim([0.0, 1.1])\n",
    "plt.ylim([0.0, 1.1])\n",
    "plt.xlabel('False Positive Rate')\n",
    "plt.ylabel('True Positive Rate')\n",
    "plt.title('Receiver operating characteristic example')\n",
    "plt.legend(loc = \"lower right\")\n",
    "plt.show()"
   ]
  },
  {
   "cell_type": "markdown",
   "metadata": {
    "colab_type": "text",
    "id": "jqsZPA5kYFu4"
   },
   "source": [
    "**References**\n",
    "\n",
    "[Breast Cancer Wisconsin (Diagnostic) Data Set](https://www.kaggle.com/uciml/breast-cancer-wisconsin-data/downloads/breast-cancer-wisconsin-data.zip/2)\n",
    "\n",
    "[Validation curves: plotting scores to evaluate models](https://scikit-learn.org/stable/modules/learning_curve.html#learning-curves)"
   ]
  },
  {
   "cell_type": "markdown",
   "metadata": {
    "colab_type": "text",
    "id": "RERADKgNFq9T"
   },
   "source": [
    "\n",
    "\n",
    "---\n",
    "\n",
    "\n",
    "\n",
    "---\n",
    "\n",
    "\n",
    "\n",
    "> > > > > > > > > © 2019 Institute of Data\n",
    "\n",
    "\n",
    "---\n",
    "\n",
    "\n",
    "\n",
    "---\n",
    "\n",
    "\n",
    "\n"
   ]
  }
 ],
 "metadata": {
  "colab": {
   "collapsed_sections": [],
   "name": "DSIA_Lab_5_1_1.ipynb",
   "provenance": []
  },
  "kernelspec": {
   "display_name": "Python 3",
   "language": "python",
   "name": "python3"
  },
  "language_info": {
   "codemirror_mode": {
    "name": "ipython",
    "version": 3
   },
   "file_extension": ".py",
   "mimetype": "text/x-python",
   "name": "python",
   "nbconvert_exporter": "python",
   "pygments_lexer": "ipython3",
   "version": "3.8.3"
  },
  "varInspector": {
   "cols": {
    "lenName": 16,
    "lenType": 16,
    "lenVar": 40
   },
   "kernels_config": {
    "python": {
     "delete_cmd_postfix": "",
     "delete_cmd_prefix": "del ",
     "library": "var_list.py",
     "varRefreshCmd": "print(var_dic_list())"
    },
    "r": {
     "delete_cmd_postfix": ") ",
     "delete_cmd_prefix": "rm(",
     "library": "var_list.r",
     "varRefreshCmd": "cat(var_dic_list()) "
    }
   },
   "types_to_exclude": [
    "module",
    "function",
    "builtin_function_or_method",
    "instance",
    "_Feature"
   ],
   "window_display": false
  }
 },
 "nbformat": 4,
 "nbformat_minor": 1
}
